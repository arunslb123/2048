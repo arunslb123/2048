{
  "nbformat": 4,
  "nbformat_minor": 0,
  "metadata": {
    "colab": {
      "name": "Linear Regression with Random Dataset.ipynb",
      "version": "0.3.2",
      "provenance": [],
      "collapsed_sections": [],
      "include_colab_link": true
    },
    "kernelspec": {
      "name": "python3",
      "display_name": "Python 3"
    }
  },
  "cells": [
    {
      "cell_type": "markdown",
      "metadata": {
        "id": "view-in-github",
        "colab_type": "text"
      },
      "source": [
        "<a href=\"https://colab.research.google.com/github/arunslb123/2048/blob/master/Linear_Regression%20SGD.ipynb\" target=\"_parent\"><img src=\"https://colab.research.google.com/assets/colab-badge.svg\" alt=\"Open In Colab\"/></a>"
      ]
    },
    {
      "metadata": {
        "id": "qWk3pVOvJy-7",
        "colab_type": "code",
        "colab": {}
      },
      "cell_type": "code",
      "source": [
        "import torch\n",
        "import torch.nn as nn\n",
        "import numpy as np\n",
        "import matplotlib.pyplot as plt\n",
        "%matplotlib inline"
      ],
      "execution_count": 0,
      "outputs": []
    },
    {
      "metadata": {
        "id": "IIM49651MeSM",
        "colab_type": "text"
      },
      "cell_type": "markdown",
      "source": [
        "Dataset"
      ]
    },
    {
      "metadata": {
        "id": "vmh3heKxKGi8",
        "colab_type": "code",
        "outputId": "6ec0cbf9-19ac-4b14-fc3a-3521e7c7fc44",
        "colab": {
          "base_uri": "https://localhost:8080/",
          "height": 286
        }
      },
      "cell_type": "code",
      "source": [
        "X = torch.randn(100,1) *10\n",
        "y = X + 2* torch.randn(100,1)\n",
        "plt.plot(X.numpy(), y.numpy(), 'o')"
      ],
      "execution_count": 2,
      "outputs": [
        {
          "output_type": "execute_result",
          "data": {
            "text/plain": [
              "[<matplotlib.lines.Line2D at 0x7faa03eb8f60>]"
            ]
          },
          "metadata": {
            "tags": []
          },
          "execution_count": 2
        },
        {
          "output_type": "display_data",
          "data": {
            "image/png": "[encoded data removed]",
            "text/plain": [
              "<Figure size 432x288 with 1 Axes>"
            ]
          },
          "metadata": {
            "tags": []
          }
        }
      ]
    },
    {
      "metadata": {
        "id": "opRXUK-pMbWj",
        "colab_type": "code",
        "colab": {}
      },
      "cell_type": "code",
      "source": [
        "class LR(nn.Module):\n",
        "  \n",
        "  def __init__(self, inp, op):\n",
        "    super().__init__()\n",
        "    self.inp = inp\n",
        "    self.op = op\n",
        "    self.l1 = nn.Linear(inp,op)\n",
        "   \n",
        "  def forward(self,x):\n",
        "    return self.l1(x)\n",
        "\n",
        "   "
      ],
      "execution_count": 0,
      "outputs": []
    },
    {
      "metadata": {
        "id": "4MzwRTYONcMH",
        "colab_type": "code",
        "colab": {}
      },
      "cell_type": "code",
      "source": [
        "torch.manual_seed(1)\n",
        "model = LR(1,1)"
      ],
      "execution_count": 0,
      "outputs": []
    },
    {
      "metadata": {
        "id": "sCW-hawnNi8G",
        "colab_type": "code",
        "outputId": "8f7fe5ff-f4d0-4263-93fe-fb61f47282d8",
        "colab": {
          "base_uri": "https://localhost:8080/",
          "height": 68
        }
      },
      "cell_type": "code",
      "source": [
        "list(model.parameters())"
      ],
      "execution_count": 5,
      "outputs": [
        {
          "output_type": "execute_result",
          "data": {
            "text/plain": [
              "[Parameter containing:\n",
              " tensor([[0.5153]], requires_grad=True), Parameter containing:\n",
              " tensor([-0.4414], requires_grad=True)]"
            ]
          },
          "metadata": {
            "tags": []
          },
          "execution_count": 5
        }
      ]
    },
    {
      "metadata": {
        "id": "ojg_DIJSNnP9",
        "colab_type": "code",
        "colab": {}
      },
      "cell_type": "code",
      "source": [
        "def get_params():\n",
        "  [w,b] = model.parameters()\n",
        "  return w[0][0].item(), b[0].item()\n",
        "  "
      ],
      "execution_count": 0,
      "outputs": []
    },
    {
      "metadata": {
        "id": "pao7sz78N_Kz",
        "colab_type": "code",
        "outputId": "e2621ce0-f43b-4a91-bade-75ba76cbfae1",
        "colab": {
          "base_uri": "https://localhost:8080/",
          "height": 34
        }
      },
      "cell_type": "code",
      "source": [
        "get_params()"
      ],
      "execution_count": 7,
      "outputs": [
        {
          "output_type": "execute_result",
          "data": {
            "text/plain": [
              "(0.5152631998062134, -0.44137823581695557)"
            ]
          },
          "metadata": {
            "tags": []
          },
          "execution_count": 7
        }
      ]
    },
    {
      "metadata": {
        "id": "3j1zEXuLNul0",
        "colab_type": "code",
        "colab": {}
      },
      "cell_type": "code",
      "source": [
        "def plot_fit():\n",
        "  w,b = get_params()\n",
        "  X1 = np.array([-20,30])\n",
        "  y1 = w*X1 + b\n",
        "  plt.plot(X1,y1, 'r')\n",
        "  plt.scatter(X.numpy(),y.numpy())\n",
        "  plt.show()"
      ],
      "execution_count": 0,
      "outputs": []
    },
    {
      "metadata": {
        "id": "VQY6QPK9NzSM",
        "colab_type": "code",
        "outputId": "4cc8fcfd-1e3f-4ecb-8448-bfcd0c73fc84",
        "colab": {
          "base_uri": "https://localhost:8080/",
          "height": 269
        }
      },
      "cell_type": "code",
      "source": [
        "plot_fit()"
      ],
      "execution_count": 9,
      "outputs": [
        {
          "output_type": "display_data",
          "data": {
            "image/png": "[encoded data removed]",
            "text/plain": [
              "<Figure size 432x288 with 1 Axes>"
            ]
          },
          "metadata": {
            "tags": []
          }
        }
      ]
    },
    {
      "metadata": {
        "id": "7nE_CvXBOmF7",
        "colab_type": "code",
        "colab": {}
      },
      "cell_type": "code",
      "source": [
        "criterion = nn.MSELoss()\n",
        "optimizer = torch.optim.SGD(model.parameters(), lr = 1e-3)"
      ],
      "execution_count": 0,
      "outputs": []
    },
    {
      "metadata": {
        "id": "fbbBIRDX028R",
        "colab_type": "code",
        "outputId": "08ff3d0e-0a4b-4061-9603-9bf633966597",
        "colab": {
          "base_uri": "https://localhost:8080/",
          "height": 255
        }
      },
      "cell_type": "code",
      "source": [
        "epochs = 15\n",
        "losses = []\n",
        "for i in range(1,epochs):\n",
        "  y_pred = model.forward(X)\n",
        "  loss = criterion(y_pred, y)\n",
        "  loss.backward()\n",
        "  losses.append(loss.item())\n",
        "  print(\"Epoch\", i, \"loss:\", loss.item())\n",
        "  optimizer.step()\n",
        "  optimizer.zero_grad()"
      ],
      "execution_count": 11,
      "outputs": [
        {
          "output_type": "stream",
          "text": [
            "Epoch 1 loss: 36.730037689208984\n",
            "Epoch 2 loss: 23.817638397216797\n",
            "Epoch 3 loss: 16.277421951293945\n",
            "Epoch 4 loss: 11.874063491821289\n",
            "Epoch 5 loss: 9.302337646484375\n",
            "Epoch 6 loss: 7.800117492675781\n",
            "Epoch 7 loss: 6.922391414642334\n",
            "Epoch 8 loss: 6.4093146324157715\n",
            "Epoch 9 loss: 6.10915994644165\n",
            "Epoch 10 loss: 5.933335781097412\n",
            "Epoch 11 loss: 5.830110549926758\n",
            "Epoch 12 loss: 5.7692790031433105\n",
            "Epoch 13 loss: 5.733202934265137\n",
            "Epoch 14 loss: 5.711584091186523\n"
          ],
          "name": "stdout"
        }
      ]
    },
    {
      "metadata": {
        "id": "vkOjmdqmJWg8",
        "colab_type": "code",
        "colab": {}
      },
      "cell_type": "code",
      "source": [
        ""
      ],
      "execution_count": 0,
      "outputs": []
    },
    {
      "metadata": {
        "id": "NkRi7sDE136Z",
        "colab_type": "code",
        "colab": {
          "base_uri": "https://localhost:8080/",
          "height": 269
        },
        "outputId": "33e79909-fee4-4327-ff04-5de5680101b7"
      },
      "cell_type": "code",
      "source": [
        "plot_fit()"
      ],
      "execution_count": 12,
      "outputs": [
        {
          "output_type": "display_data",
          "data": {
            "image/png": "[encoded data removed]",
            "text/plain": [
              "<Figure size 432x288 with 1 Axes>"
            ]
          },
          "metadata": {
            "tags": []
          }
        }
      ]
    },
    {
      "metadata": {
        "id": "de3e3zo-6KKk",
        "colab_type": "code",
        "colab": {}
      },
      "cell_type": "code",
      "source": [
        ""
      ],
      "execution_count": 0,
      "outputs": []
    }
  ]
}